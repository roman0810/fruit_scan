{
 "cells": [
  {
   "cell_type": "code",
   "execution_count": 1,
   "id": "b44690e9-e1ac-4e65-91c8-1f270b41bcad",
   "metadata": {},
   "outputs": [],
   "source": [
    "import torch\n",
    "from torchvision.io import read_image\n",
    "import matplotlib.pyplot as plt \n",
    "import glob\n",
    "import shutil\n",
    "import os"
   ]
  },
  {
   "cell_type": "code",
   "execution_count": 2,
   "id": "1c8eb90e-ba1a-46fc-a336-d6e719475f48",
   "metadata": {},
   "outputs": [],
   "source": [
    "def clear_trash(path):\n",
    "    main_folders = glob.glob(f\"{path}/*\")\n",
    "    for main_folder in main_folders:\n",
    "        obj_files = glob.glob(f\"{main_folder}/*\")\n",
    "        for obj_file in obj_files:\n",
    "            if \"depth_masks\" in obj_file or \"pointcloud.ply\" in obj_file or \"depths\" in obj_file:\n",
    "                if os.path.isfile(obj_file):\n",
    "                    os.remove(obj_file)\n",
    "                else:\n",
    "                    shutil.rmtree(obj_file)\n",
    "    "
   ]
  },
  {
   "cell_type": "code",
   "execution_count": 8,
   "id": "1d54c8be-9648-4976-b403-4dc355ca9bfd",
   "metadata": {},
   "outputs": [],
   "source": [
    "clear_trash(\"/home/usr/Downloads/plant_002/plant\")"
   ]
  },
  {
   "cell_type": "code",
   "execution_count": null,
   "id": "86ff44a3-4f6c-4a79-9a34-d7404b11449c",
   "metadata": {},
   "outputs": [],
   "source": []
  }
 ],
 "metadata": {
  "kernelspec": {
   "display_name": "Python 3 (ipykernel)",
   "language": "python",
   "name": "python3"
  },
  "language_info": {
   "codemirror_mode": {
    "name": "ipython",
    "version": 3
   },
   "file_extension": ".py",
   "mimetype": "text/x-python",
   "name": "python",
   "nbconvert_exporter": "python",
   "pygments_lexer": "ipython3",
   "version": "3.12.3"
  }
 },
 "nbformat": 4,
 "nbformat_minor": 5
}
