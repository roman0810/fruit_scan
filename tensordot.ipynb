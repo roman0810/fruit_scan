{
 "cells": [
  {
   "cell_type": "code",
   "execution_count": 1,
   "id": "35803577-e6c4-4152-be8f-f1647b995fcd",
   "metadata": {},
   "outputs": [],
   "source": [
    "import os\n",
    "os.environ['PYTORCH_CUDA_ALLOC_CONF'] = 'expandable_segments:True'"
   ]
  },
  {
   "cell_type": "code",
   "execution_count": 2,
   "id": "25721533-cd70-4bc1-a8bf-c0f203cfbeca",
   "metadata": {},
   "outputs": [],
   "source": [
    "from torchvision.io import read_image\n",
    "from torchvision.transforms import Resize\n",
    "\n",
    "import torch as tn\n",
    "import torch.nn as nn\n",
    "import torchtt as tntt\n",
    "\n",
    "from torch import optim\n",
    "from torchvision.transforms import ToTensor\n",
    "from torch.utils.data import DataLoader, Dataset\n",
    "from torch.utils.data import random_split\n",
    "import numpy as np\n",
    "\n",
    "from time import time\n",
    "\n",
    "device = tn.device('cuda' if tn.cuda.is_available() else 'cpu')"
   ]
  },
  {
   "cell_type": "code",
   "execution_count": 2,
   "id": "ef618752-ac76-4d4c-9d38-f55be2718ef4",
   "metadata": {},
   "outputs": [
    {
     "ename": "RuntimeError",
     "evalue": "[Errno 2] No such file or directory: 'data/1_1.jpg'",
     "output_type": "error",
     "traceback": [
      "\u001b[31m---------------------------------------------------------------------------\u001b[39m",
      "\u001b[31mRuntimeError\u001b[39m                              Traceback (most recent call last)",
      "\u001b[36mCell\u001b[39m\u001b[36m \u001b[39m\u001b[32mIn[2]\u001b[39m\u001b[32m, line 6\u001b[39m\n\u001b[32m      3\u001b[39m path3 = \u001b[33m\"\u001b[39m\u001b[33mdata/1_3.jpg\u001b[39m\u001b[33m\"\u001b[39m\n\u001b[32m      4\u001b[39m res = Resize((\u001b[32m256\u001b[39m, \u001b[32m256\u001b[39m))\n\u001b[32m----> \u001b[39m\u001b[32m6\u001b[39m im1 = res(\u001b[43mread_image\u001b[49m\u001b[43m(\u001b[49m\u001b[43mpath1\u001b[49m\u001b[43m)\u001b[49m/\u001b[32m255.0\u001b[39m)\n\u001b[32m      7\u001b[39m im2 = res(read_image(path2)/\u001b[32m255.0\u001b[39m)\n\u001b[32m      8\u001b[39m im3 = res(read_image(path3)/\u001b[32m255.0\u001b[39m)\n",
      "\u001b[36mFile \u001b[39m\u001b[32m~/myenv/lib/python3.13/site-packages/torchvision/io/image.py:336\u001b[39m, in \u001b[36mread_image\u001b[39m\u001b[34m(path, mode, apply_exif_orientation)\u001b[39m\n\u001b[32m    334\u001b[39m \u001b[38;5;28;01mif\u001b[39;00m \u001b[38;5;129;01mnot\u001b[39;00m torch.jit.is_scripting() \u001b[38;5;129;01mand\u001b[39;00m \u001b[38;5;129;01mnot\u001b[39;00m torch.jit.is_tracing():\n\u001b[32m    335\u001b[39m     _log_api_usage_once(read_image)\n\u001b[32m--> \u001b[39m\u001b[32m336\u001b[39m data = \u001b[43mread_file\u001b[49m\u001b[43m(\u001b[49m\u001b[43mpath\u001b[49m\u001b[43m)\u001b[49m\n\u001b[32m    337\u001b[39m \u001b[38;5;28;01mreturn\u001b[39;00m decode_image(data, mode, apply_exif_orientation=apply_exif_orientation)\n",
      "\u001b[36mFile \u001b[39m\u001b[32m~/myenv/lib/python3.13/site-packages/torchvision/io/image.py:64\u001b[39m, in \u001b[36mread_file\u001b[39m\u001b[34m(path)\u001b[39m\n\u001b[32m     62\u001b[39m \u001b[38;5;28;01mif\u001b[39;00m \u001b[38;5;129;01mnot\u001b[39;00m torch.jit.is_scripting() \u001b[38;5;129;01mand\u001b[39;00m \u001b[38;5;129;01mnot\u001b[39;00m torch.jit.is_tracing():\n\u001b[32m     63\u001b[39m     _log_api_usage_once(read_file)\n\u001b[32m---> \u001b[39m\u001b[32m64\u001b[39m data = \u001b[43mtorch\u001b[49m\u001b[43m.\u001b[49m\u001b[43mops\u001b[49m\u001b[43m.\u001b[49m\u001b[43mimage\u001b[49m\u001b[43m.\u001b[49m\u001b[43mread_file\u001b[49m\u001b[43m(\u001b[49m\u001b[38;5;28;43mstr\u001b[39;49m\u001b[43m(\u001b[49m\u001b[43mpath\u001b[49m\u001b[43m)\u001b[49m\u001b[43m)\u001b[49m\n\u001b[32m     65\u001b[39m \u001b[38;5;28;01mreturn\u001b[39;00m data\n",
      "\u001b[36mFile \u001b[39m\u001b[32m~/myenv/lib/python3.13/site-packages/torch/_ops.py:1158\u001b[39m, in \u001b[36mOpOverloadPacket.__call__\u001b[39m\u001b[34m(self, *args, **kwargs)\u001b[39m\n\u001b[32m   1156\u001b[39m \u001b[38;5;28;01mif\u001b[39;00m \u001b[38;5;28mself\u001b[39m._has_torchbind_op_overload \u001b[38;5;129;01mand\u001b[39;00m _must_dispatch_in_python(args, kwargs):\n\u001b[32m   1157\u001b[39m     \u001b[38;5;28;01mreturn\u001b[39;00m _call_overload_packet_from_python(\u001b[38;5;28mself\u001b[39m, args, kwargs)\n\u001b[32m-> \u001b[39m\u001b[32m1158\u001b[39m \u001b[38;5;28;01mreturn\u001b[39;00m \u001b[38;5;28;43mself\u001b[39;49m\u001b[43m.\u001b[49m\u001b[43m_op\u001b[49m\u001b[43m(\u001b[49m\u001b[43m*\u001b[49m\u001b[43margs\u001b[49m\u001b[43m,\u001b[49m\u001b[43m \u001b[49m\u001b[43m*\u001b[49m\u001b[43m*\u001b[49m\u001b[43m(\u001b[49m\u001b[43mkwargs\u001b[49m\u001b[43m \u001b[49m\u001b[38;5;129;43;01mor\u001b[39;49;00m\u001b[43m \u001b[49m\u001b[43m{\u001b[49m\u001b[43m}\u001b[49m\u001b[43m)\u001b[49m\u001b[43m)\u001b[49m\n",
      "\u001b[31mRuntimeError\u001b[39m: [Errno 2] No such file or directory: 'data/1_1.jpg'"
     ]
    }
   ],
   "source": [
    "path1 = \"data/1_1.jpg\"\n",
    "path2 = \"data/1_2.jpg\"\n",
    "path3 = \"data/1_3.jpg\"\n",
    "res = Resize((256, 256))\n",
    "\n",
    "im1 = res(read_image(path1)/255.0)\n",
    "im2 = res(read_image(path2)/255.0)\n",
    "im3 = res(read_image(path3)/255.0)"
   ]
  },
  {
   "cell_type": "code",
   "execution_count": 4,
   "id": "2f56898e-96fd-495b-80ad-efee0cb9e10e",
   "metadata": {},
   "outputs": [],
   "source": [
    "im1_tt = tntt.TT(im1)\n",
    "im2_tt = tntt.TT(im2)\n",
    "im3_tt = tntt.TT(im3)"
   ]
  },
  {
   "cell_type": "code",
   "execution_count": 5,
   "id": "6750de5b-ae10-48e7-884f-39fe1091ee28",
   "metadata": {},
   "outputs": [],
   "source": [
    "test2 = tntt.kron(im1_tt, im2_tt)\n",
    "test3 = tntt.kron(test2, im3_tt)"
   ]
  },
  {
   "cell_type": "code",
   "execution_count": 6,
   "id": "c0473134-611f-409b-ab5b-578fd6a534fe",
   "metadata": {},
   "outputs": [
    {
     "data": {
      "text/plain": [
       "TT with sizes and ranks:\n",
       "N = [3, 256, 256, 3, 256, 256, 3, 256, 256]\n",
       "R = [1, 3, 256, 1, 3, 256, 1, 3, 256, 1]\n",
       "\n",
       "Device: cpu, dtype: torch.float32\n",
       "#entries 786459 compression 1.034838387820653e-10"
      ]
     },
     "execution_count": 6,
     "metadata": {},
     "output_type": "execute_result"
    }
   ],
   "source": [
    "test3"
   ]
  },
  {
   "cell_type": "code",
   "execution_count": 7,
   "id": "ed08df93-b643-4a1a-9c9f-5a3f3bf4b1a1",
   "metadata": {},
   "outputs": [],
   "source": [
    "class BasicTT(nn.Module):\n",
    "    def __init__(self):\n",
    "        super().__init__()\n",
    "        self.ttl1 = tntt.nn.LinearLayerTT([1, 500, 500, 500], \n",
    "                                          [8, 100, 100, 100],\n",
    "                                          [1, 2  , 2  , 2   , 1])\n",
    "        \n",
    "        self.ttl2 = tntt.nn.LinearLayerTT([8, 100, 100, 100],\n",
    "                                          [8, 50 , 50 , 50 ], \n",
    "                                          [1, 5  , 5  , 5   , 1])\n",
    "\n",
    "        self.ttl3 = tntt.nn.LinearLayerTT([8, 50, 50, 50],\n",
    "                                          [2, 8, 8, 8],\n",
    "                                          [1,10,10, 10, 1])\n",
    "        \n",
    "        self.linear1 = nn.Linear(1024, 512, dtype = tn.float32)\n",
    "\n",
    "        self.linear2 = nn.Linear(512, 10, dtype = tn.float32)\n",
    "        self.logsoftmax = nn.LogSoftmax(1)\n",
    "\n",
    "    def forward(self, x):\n",
    "        x = self.ttl1(x)\n",
    "        x = tn.relu(x)\n",
    "        x = self.ttl2(x)\n",
    "        x = tn.relu(x)\n",
    "        x = self.ttl3(x)\n",
    "        x = tn.relu(x)\n",
    "        \n",
    "        x = x.view(-1,1024)\n",
    "        x = self.linear1(x)\n",
    "        x = tn.relu(x)\n",
    "        x = self.linear2(x)\n",
    "        return self.logsoftmax(x)"
   ]
  },
  {
   "cell_type": "code",
   "execution_count": 8,
   "id": "2783cbae-9456-45c5-a134-3083c00d40b6",
   "metadata": {},
   "outputs": [],
   "source": [
    "model = BasicTT().to(device)\n",
    "loss_function = nn.CrossEntropyLoss()   \n",
    "optimizer = optim.Adam(model.parameters(), lr = 0.001)"
   ]
  },
  {
   "cell_type": "code",
   "execution_count": 9,
   "id": "f22d8189-f262-4c32-aa12-31095dfe1acf",
   "metadata": {},
   "outputs": [],
   "source": [
    "test_inp = tn.rand((1,500,500,500)).cuda()\n",
    "target = tn.rand((1,10)).cuda()\n",
    "\n",
    "optimizer.zero_grad()\n",
    "output = model(test_inp)\n",
    "loss = loss_function(output, target)\n",
    "loss.backward()\n",
    "optimizer.step()"
   ]
  },
  {
   "cell_type": "code",
   "execution_count": 10,
   "id": "cb4af5d5-b854-4cde-83db-4c81d07fe0af",
   "metadata": {},
   "outputs": [],
   "source": [
    "# ОЗУ требует в 7.8 раз больше времени на шаг оптимизации\n",
    "\n",
    "# ИЗВЛЕКАЕМ ПРИЗННАКИ ИЗОБРАЖЕНИЙ"
   ]
  },
  {
   "cell_type": "code",
   "execution_count": 3,
   "id": "b6e1b064-a202-42d9-b7cb-79f2072dfe96",
   "metadata": {},
   "outputs": [],
   "source": [
    "from torchvision.models import resnet50, ResNet50_Weights, vgg16_bn, VGG16_BN_Weights\n",
    "from torchsummary import summary\n",
    "\n",
    "DETECTION_CLASSES = 6\n",
    "\n",
    "class ResNet50(nn.Module):\n",
    "    def __init__(self):\n",
    "        super(ResNet50, self).__init__()\n",
    "        \n",
    "\n",
    "        self.conv = resnet50(weights=ResNet50_Weights.DEFAULT)\n",
    "        for param in self.conv.parameters():\n",
    "            param.requires_grad = False\n",
    "\n",
    "        self.fc1 = nn.Sequential(\n",
    "            nn.Linear(in_features = 1000, out_features = 500, bias=True),\n",
    "            nn.BatchNorm1d(500, momentum = 0.5),\n",
    "            nn.LeakyReLU()\n",
    "        )\n",
    "        self.fc2 = nn.Sequential(\n",
    "            nn.Dropout(p=0.5),\n",
    "            nn.Linear(in_features = 500, out_features = 500, bias=True),\n",
    "            nn.BatchNorm1d(500, momentum = 0.5),\n",
    "            nn.LeakyReLU(),\n",
    "            nn.Dropout(p=0.5),\n",
    "            nn.Linear(in_features = 500, out_features = 500, bias=True),\n",
    "            nn.BatchNorm1d(500, momentum = 0.5),\n",
    "            nn.LeakyReLU(),\n",
    "            nn.Dropout(p=0.5),\n",
    "            nn.Linear(in_features = 500, out_features = DETECTION_CLASSES, bias=True),\n",
    "            nn.Softmax(dim=1)\n",
    "        )\n",
    "\n",
    "    def forward(self, x):\n",
    "        x = self.conv(x)\n",
    "        x = x.view(-1, 1000)\n",
    "        x = self.fc1(x)\n",
    "        x = self.fc2(x)\n",
    "        return x"
   ]
  },
  {
   "cell_type": "code",
   "execution_count": 3,
   "id": "45c4d0d8-4f4d-4435-a4d5-b6d2a0dcdd8a",
   "metadata": {},
   "outputs": [
    {
     "data": {
      "text/plain": [
       "['book', 'plant', 'laptop', 'umbrella', 'bench', 'motorcycle']"
      ]
     },
     "execution_count": 3,
     "metadata": {},
     "output_type": "execute_result"
    }
   ],
   "source": [
    "from utils.triplets import ImageTriplets\n",
    "\n",
    "data = ImageTriplets(\"/home/roman/Documents/Datasets/co3d\", triplets=True)\n",
    "\n",
    "data.classes"
   ]
  },
  {
   "cell_type": "code",
   "execution_count": null,
   "id": "f436b404-3c5c-47b6-9756-d475d2c7bfff",
   "metadata": {},
   "outputs": [],
   "source": []
  }
 ],
 "metadata": {
  "kernelspec": {
   "display_name": "Python 3 (ipykernel)",
   "language": "python",
   "name": "python3"
  },
  "language_info": {
   "codemirror_mode": {
    "name": "ipython",
    "version": 3
   },
   "file_extension": ".py",
   "mimetype": "text/x-python",
   "name": "python",
   "nbconvert_exporter": "python",
   "pygments_lexer": "ipython3",
   "version": "3.13.3"
  }
 },
 "nbformat": 4,
 "nbformat_minor": 5
}
