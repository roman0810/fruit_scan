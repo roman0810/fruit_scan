{
 "cells": [
  {
   "cell_type": "code",
   "execution_count": 1,
   "id": "35803577-e6c4-4152-be8f-f1647b995fcd",
   "metadata": {},
   "outputs": [],
   "source": [
    "import os\n",
    "os.environ['PYTORCH_CUDA_ALLOC_CONF'] = 'expandable_segments:True'"
   ]
  },
  {
   "cell_type": "code",
   "execution_count": 2,
   "id": "25721533-cd70-4bc1-a8bf-c0f203cfbeca",
   "metadata": {},
   "outputs": [
    {
     "name": "stderr",
     "output_type": "stream",
     "text": [
      "/home/usr/myenv/lib/python3.12/site-packages/torchtt/_dmrg.py:19: UserWarning: \u001b[33m\n",
      "C++ implementation not available. Using pure Python.\n",
      "\u001b[0m\n",
      "  warnings.warn(\"\\x1B[33m\\nC++ implementation not available. Using pure Python.\\n\\033[0m\")\n",
      "/home/usr/myenv/lib/python3.12/site-packages/torchtt/_amen.py:21: UserWarning: \u001b[33m\n",
      "C++ implementation not available. Using pure Python.\n",
      "\u001b[0m\n",
      "  warnings.warn(\n",
      "/home/usr/myenv/lib/python3.12/site-packages/torchtt/solvers.py:21: UserWarning: \u001b[33m\n",
      "C++ implementation not available. Using pure Python.\n",
      "\u001b[0m\n",
      "  warnings.warn(\n",
      "/home/usr/myenv/lib/python3.12/site-packages/torchtt/cpp.py:12: UserWarning: \u001b[33m\n",
      "C++ implementation not available. Using pure Python.\n",
      "\u001b[0m\n",
      "  warnings.warn(\"\\x1B[33m\\nC++ implementation not available. Using pure Python.\\n\\033[0m\")\n",
      "/home/usr/myenv/lib/python3.12/site-packages/torchtt/__init__.py:34: UserWarning: \u001b[33m\n",
      "C++ implementation not available. Using pure Python.\n",
      "\u001b[0m\n",
      "  warnings.warn(\n"
     ]
    }
   ],
   "source": [
    "from torchvision.io import read_image\n",
    "from torchvision.transforms import Resize\n",
    "\n",
    "import torch as tn\n",
    "import torch.nn as nn\n",
    "import torchtt as tntt\n",
    "\n",
    "from torch import optim\n",
    "from torchvision.transforms import ToTensor\n",
    "from torch.utils.data import DataLoader, Dataset\n",
    "from torch.utils.data import random_split\n",
    "import numpy as np\n",
    "\n",
    "from time import time\n",
    "\n",
    "device = tn.device('cuda' if tn.cuda.is_available() else 'cpu')"
   ]
  },
  {
   "cell_type": "code",
   "execution_count": 3,
   "id": "ef618752-ac76-4d4c-9d38-f55be2718ef4",
   "metadata": {},
   "outputs": [],
   "source": [
    "path1 = \"data/1_1.jpg\"\n",
    "path2 = \"data/1_2.jpg\"\n",
    "path3 = \"data/1_3.jpg\"\n",
    "res = Resize((256, 256))\n",
    "\n",
    "im1 = res(read_image(path1)/255.0)\n",
    "im2 = res(read_image(path2)/255.0)\n",
    "im3 = res(read_image(path3)/255.0)"
   ]
  },
  {
   "cell_type": "code",
   "execution_count": 4,
   "id": "2f56898e-96fd-495b-80ad-efee0cb9e10e",
   "metadata": {},
   "outputs": [],
   "source": [
    "im1_tt = tntt.TT(im1)\n",
    "im2_tt = tntt.TT(im2)\n",
    "im3_tt = tntt.TT(im3)"
   ]
  },
  {
   "cell_type": "code",
   "execution_count": 5,
   "id": "6750de5b-ae10-48e7-884f-39fe1091ee28",
   "metadata": {},
   "outputs": [],
   "source": [
    "test2 = tntt.kron(im1_tt, im2_tt)\n",
    "test3 = tntt.kron(test2, im3_tt)"
   ]
  },
  {
   "cell_type": "code",
   "execution_count": 6,
   "id": "c0473134-611f-409b-ab5b-578fd6a534fe",
   "metadata": {},
   "outputs": [
    {
     "data": {
      "text/plain": [
       "TT with sizes and ranks:\n",
       "N = [3, 256, 256, 3, 256, 256, 3, 256, 256]\n",
       "R = [1, 3, 256, 1, 3, 256, 1, 3, 256, 1]\n",
       "\n",
       "Device: cpu, dtype: torch.float32\n",
       "#entries 786459 compression 1.034838387820653e-10"
      ]
     },
     "execution_count": 6,
     "metadata": {},
     "output_type": "execute_result"
    }
   ],
   "source": [
    "test3"
   ]
  },
  {
   "cell_type": "code",
   "execution_count": 7,
   "id": "ed08df93-b643-4a1a-9c9f-5a3f3bf4b1a1",
   "metadata": {},
   "outputs": [],
   "source": [
    "class BasicTT(nn.Module):\n",
    "    def __init__(self):\n",
    "        super().__init__()\n",
    "        self.ttl1 = tntt.nn.LinearLayerTT([1, 500, 500, 500], \n",
    "                                          [8, 100, 100, 100],\n",
    "                                          [1, 2  , 2  , 2   , 1])\n",
    "        \n",
    "        self.ttl2 = tntt.nn.LinearLayerTT([8, 100, 100, 100],\n",
    "                                          [8, 50 , 50 , 50 ], \n",
    "                                          [1, 5  , 5  , 5   , 1])\n",
    "\n",
    "        self.ttl3 = tntt.nn.LinearLayerTT([8, 50, 50, 50],\n",
    "                                          [2, 8, 8, 8],\n",
    "                                          [1,10,10, 10, 1])\n",
    "        \n",
    "        self.linear1 = nn.Linear(1024, 512, dtype = tn.float32)\n",
    "\n",
    "        self.linear2 = nn.Linear(512, 10, dtype = tn.float32)\n",
    "        self.logsoftmax = nn.LogSoftmax(1)\n",
    "\n",
    "    def forward(self, x):\n",
    "        x = self.ttl1(x)\n",
    "        x = tn.relu(x)\n",
    "        x = self.ttl2(x)\n",
    "        x = tn.relu(x)\n",
    "        x = self.ttl3(x)\n",
    "        x = tn.relu(x)\n",
    "        \n",
    "        x = x.view(-1,1024)\n",
    "        x = self.linear1(x)\n",
    "        x = tn.relu(x)\n",
    "        x = self.linear2(x)\n",
    "        return self.logsoftmax(x)"
   ]
  },
  {
   "cell_type": "code",
   "execution_count": 8,
   "id": "2783cbae-9456-45c5-a134-3083c00d40b6",
   "metadata": {},
   "outputs": [],
   "source": [
    "model = BasicTT().to(device)\n",
    "loss_function = nn.CrossEntropyLoss()   \n",
    "optimizer = optim.Adam(model.parameters(), lr = 0.001)"
   ]
  },
  {
   "cell_type": "code",
   "execution_count": 9,
   "id": "f22d8189-f262-4c32-aa12-31095dfe1acf",
   "metadata": {},
   "outputs": [],
   "source": [
    "test_inp = tn.rand((1,500,500,500)).cuda()\n",
    "target = tn.rand((1,10)).cuda()\n",
    "\n",
    "optimizer.zero_grad()\n",
    "output = model(test_inp)\n",
    "loss = loss_function(output, target)\n",
    "loss.backward()\n",
    "optimizer.step()"
   ]
  },
  {
   "cell_type": "code",
   "execution_count": 10,
   "id": "cb4af5d5-b854-4cde-83db-4c81d07fe0af",
   "metadata": {},
   "outputs": [],
   "source": [
    "# ОЗУ требует в 7.8 раз больше времени на шаг оптимизации\n",
    "\n",
    "# ИЗВЛЕКАЕМ ПРИЗННАКИ ИЗОБРАЖЕНИЙ"
   ]
  },
  {
   "cell_type": "code",
   "execution_count": 13,
   "id": "b6e1b064-a202-42d9-b7cb-79f2072dfe96",
   "metadata": {},
   "outputs": [],
   "source": [
    "from torchvision.models import resnet50, ResNet50_Weights, vgg16_bn, VGG16_BN_Weights\n",
    "from torchsummary import summary\n",
    "\n",
    "DETECTION_CLASSES = 6\n",
    "\n",
    "class ResNet50(nn.Module):\n",
    "    def __init__(self):\n",
    "        super(ResNet50, self).__init__()\n",
    "        \n",
    "\n",
    "        self.conv = resnet50(weights=ResNet50_Weights.DEFAULT)\n",
    "        for param in self.conv.parameters():\n",
    "            param.requires_grad = False\n",
    "\n",
    "        self.fc1 = nn.Sequential(\n",
    "            nn.Linear(in_features = 1000, out_features = 500, bias=True),\n",
    "            nn.BatchNorm1d(500, momentum = 0.5),\n",
    "            nn.LeakyReLU()\n",
    "        )\n",
    "        self.fc2 = nn.Sequential(\n",
    "            nn.Dropout(p=0.5),\n",
    "            nn.Linear(in_features = 500, out_features = 500, bias=True),\n",
    "            nn.BatchNorm1d(500, momentum = 0.5),\n",
    "            nn.LeakyReLU(),\n",
    "            nn.Dropout(p=0.5),\n",
    "            nn.Linear(in_features = 500, out_features = 500, bias=True),\n",
    "            nn.BatchNorm1d(500, momentum = 0.5),\n",
    "            nn.LeakyReLU(),\n",
    "            nn.Dropout(p=0.5),\n",
    "            nn.Linear(in_features = 500, out_features = DETECTION_CLASSES, bias=True),\n",
    "            nn.Softmax(dim=1)\n",
    "        )\n",
    "\n",
    "    def forward(self, x):\n",
    "        x = self.conv(x)\n",
    "        x = x.view(-1, 1000)\n",
    "        x = self.fc1(x)\n",
    "        x = self.fc2(x)\n",
    "        return x"
   ]
  },
  {
   "cell_type": "code",
   "execution_count": 38,
   "id": "96eda6af-72ca-4bee-b902-7a80c47ad703",
   "metadata": {},
   "outputs": [],
   "source": [
    "from glob import glob\n",
    "class ImageTriplets(Dataset):\n",
    "    def __init__(self, data_path):\n",
    "        self.classes = []\n",
    "        self.all_locations = {}\n",
    "        self.total_images = 0\n",
    "        \n",
    "        for cls in glob(f\"{data_path}/*\"):\n",
    "            cls_clear = cls.split('/')[-1]\n",
    "            self.classes.append(cls_clear)\n",
    "            \n",
    "            self.all_locations[cls_clear] = []\n",
    "            for obj_path in glob(f\"{cls}/*\"):\n",
    "                obj = obj_path.split('/')[-1]\n",
    "                images = glob(f\"{obj_path}/images/*\")\n",
    "                \n",
    "                self.all_locations[cls_clear].append(images)\n",
    "                self.total_images += len(images)\n",
    "            \n",
    "\n",
    "        self.classes.sort()\n",
    "        \n",
    "    def __getitem__(self, index):\n",
    "        pass"
   ]
  },
  {
   "cell_type": "code",
   "execution_count": 39,
   "id": "cc4709ee-5b95-47ae-988e-f65990632e16",
   "metadata": {},
   "outputs": [],
   "source": [
    "data = ImageTriplets(\"/home/usr/Desktop/co3d\")"
   ]
  },
  {
   "cell_type": "code",
   "execution_count": 40,
   "id": "214d3c7d-2979-444a-a1b6-30e68b66952d",
   "metadata": {},
   "outputs": [
    {
     "data": {
      "text/plain": [
       "dict_keys(['bench', 'plant', 'book', 'umbrella', 'motorcycle', 'laptop'])"
      ]
     },
     "execution_count": 40,
     "metadata": {},
     "output_type": "execute_result"
    }
   ],
   "source": [
    "data.all_locations.keys()"
   ]
  },
  {
   "cell_type": "code",
   "execution_count": 41,
   "id": "39583c1f-14ed-44ce-8eb3-9a5b9ef34422",
   "metadata": {},
   "outputs": [
    {
     "data": {
      "text/plain": [
       "['/home/usr/Desktop/co3d/bench/349_36542_68793/images/frame000100.jpg',\n",
       " '/home/usr/Desktop/co3d/bench/349_36542_68793/images/frame000053.jpg',\n",
       " '/home/usr/Desktop/co3d/bench/349_36542_68793/images/frame000095.jpg',\n",
       " '/home/usr/Desktop/co3d/bench/349_36542_68793/images/frame000024.jpg',\n",
       " '/home/usr/Desktop/co3d/bench/349_36542_68793/images/frame000002.jpg',\n",
       " '/home/usr/Desktop/co3d/bench/349_36542_68793/images/frame000114.jpg',\n",
       " '/home/usr/Desktop/co3d/bench/349_36542_68793/images/frame000065.jpg',\n",
       " '/home/usr/Desktop/co3d/bench/349_36542_68793/images/frame000124.jpg',\n",
       " '/home/usr/Desktop/co3d/bench/349_36542_68793/images/frame000090.jpg',\n",
       " '/home/usr/Desktop/co3d/bench/349_36542_68793/images/frame000049.jpg',\n",
       " '/home/usr/Desktop/co3d/bench/349_36542_68793/images/frame000012.jpg',\n",
       " '/home/usr/Desktop/co3d/bench/349_36542_68793/images/frame000055.jpg',\n",
       " '/home/usr/Desktop/co3d/bench/349_36542_68793/images/frame000105.jpg',\n",
       " '/home/usr/Desktop/co3d/bench/349_36542_68793/images/frame000041.jpg',\n",
       " '/home/usr/Desktop/co3d/bench/349_36542_68793/images/frame000033.jpg',\n",
       " '/home/usr/Desktop/co3d/bench/349_36542_68793/images/frame000141.jpg',\n",
       " '/home/usr/Desktop/co3d/bench/349_36542_68793/images/frame000093.jpg',\n",
       " '/home/usr/Desktop/co3d/bench/349_36542_68793/images/frame000104.jpg',\n",
       " '/home/usr/Desktop/co3d/bench/349_36542_68793/images/frame000078.jpg',\n",
       " '/home/usr/Desktop/co3d/bench/349_36542_68793/images/frame000134.jpg',\n",
       " '/home/usr/Desktop/co3d/bench/349_36542_68793/images/frame000046.jpg',\n",
       " '/home/usr/Desktop/co3d/bench/349_36542_68793/images/frame000052.jpg',\n",
       " '/home/usr/Desktop/co3d/bench/349_36542_68793/images/frame000017.jpg',\n",
       " '/home/usr/Desktop/co3d/bench/349_36542_68793/images/frame000116.jpg',\n",
       " '/home/usr/Desktop/co3d/bench/349_36542_68793/images/frame000091.jpg',\n",
       " '/home/usr/Desktop/co3d/bench/349_36542_68793/images/frame000109.jpg',\n",
       " '/home/usr/Desktop/co3d/bench/349_36542_68793/images/frame000125.jpg',\n",
       " '/home/usr/Desktop/co3d/bench/349_36542_68793/images/frame000144.jpg',\n",
       " '/home/usr/Desktop/co3d/bench/349_36542_68793/images/frame000127.jpg',\n",
       " '/home/usr/Desktop/co3d/bench/349_36542_68793/images/frame000027.jpg',\n",
       " '/home/usr/Desktop/co3d/bench/349_36542_68793/images/frame000138.jpg',\n",
       " '/home/usr/Desktop/co3d/bench/349_36542_68793/images/frame000048.jpg',\n",
       " '/home/usr/Desktop/co3d/bench/349_36542_68793/images/frame000018.jpg',\n",
       " '/home/usr/Desktop/co3d/bench/349_36542_68793/images/frame000136.jpg',\n",
       " '/home/usr/Desktop/co3d/bench/349_36542_68793/images/frame000039.jpg',\n",
       " '/home/usr/Desktop/co3d/bench/349_36542_68793/images/frame000060.jpg',\n",
       " '/home/usr/Desktop/co3d/bench/349_36542_68793/images/frame000047.jpg',\n",
       " '/home/usr/Desktop/co3d/bench/349_36542_68793/images/frame000001.jpg',\n",
       " '/home/usr/Desktop/co3d/bench/349_36542_68793/images/frame000097.jpg',\n",
       " '/home/usr/Desktop/co3d/bench/349_36542_68793/images/frame000071.jpg',\n",
       " '/home/usr/Desktop/co3d/bench/349_36542_68793/images/frame000059.jpg',\n",
       " '/home/usr/Desktop/co3d/bench/349_36542_68793/images/frame000131.jpg',\n",
       " '/home/usr/Desktop/co3d/bench/349_36542_68793/images/frame000031.jpg',\n",
       " '/home/usr/Desktop/co3d/bench/349_36542_68793/images/frame000099.jpg',\n",
       " '/home/usr/Desktop/co3d/bench/349_36542_68793/images/frame000096.jpg',\n",
       " '/home/usr/Desktop/co3d/bench/349_36542_68793/images/frame000077.jpg',\n",
       " '/home/usr/Desktop/co3d/bench/349_36542_68793/images/frame000110.jpg',\n",
       " '/home/usr/Desktop/co3d/bench/349_36542_68793/images/frame000022.jpg',\n",
       " '/home/usr/Desktop/co3d/bench/349_36542_68793/images/frame000130.jpg',\n",
       " '/home/usr/Desktop/co3d/bench/349_36542_68793/images/frame000123.jpg',\n",
       " '/home/usr/Desktop/co3d/bench/349_36542_68793/images/frame000080.jpg',\n",
       " '/home/usr/Desktop/co3d/bench/349_36542_68793/images/frame000113.jpg',\n",
       " '/home/usr/Desktop/co3d/bench/349_36542_68793/images/frame000101.jpg',\n",
       " '/home/usr/Desktop/co3d/bench/349_36542_68793/images/frame000120.jpg',\n",
       " '/home/usr/Desktop/co3d/bench/349_36542_68793/images/frame000010.jpg',\n",
       " '/home/usr/Desktop/co3d/bench/349_36542_68793/images/frame000083.jpg',\n",
       " '/home/usr/Desktop/co3d/bench/349_36542_68793/images/frame000003.jpg',\n",
       " '/home/usr/Desktop/co3d/bench/349_36542_68793/images/frame000032.jpg',\n",
       " '/home/usr/Desktop/co3d/bench/349_36542_68793/images/frame000139.jpg',\n",
       " '/home/usr/Desktop/co3d/bench/349_36542_68793/images/frame000040.jpg',\n",
       " '/home/usr/Desktop/co3d/bench/349_36542_68793/images/frame000085.jpg',\n",
       " '/home/usr/Desktop/co3d/bench/349_36542_68793/images/frame000043.jpg',\n",
       " '/home/usr/Desktop/co3d/bench/349_36542_68793/images/frame000019.jpg',\n",
       " '/home/usr/Desktop/co3d/bench/349_36542_68793/images/frame000026.jpg',\n",
       " '/home/usr/Desktop/co3d/bench/349_36542_68793/images/frame000062.jpg',\n",
       " '/home/usr/Desktop/co3d/bench/349_36542_68793/images/frame000082.jpg',\n",
       " '/home/usr/Desktop/co3d/bench/349_36542_68793/images/frame000036.jpg',\n",
       " '/home/usr/Desktop/co3d/bench/349_36542_68793/images/frame000119.jpg',\n",
       " '/home/usr/Desktop/co3d/bench/349_36542_68793/images/frame000058.jpg',\n",
       " '/home/usr/Desktop/co3d/bench/349_36542_68793/images/frame000112.jpg',\n",
       " '/home/usr/Desktop/co3d/bench/349_36542_68793/images/frame000132.jpg',\n",
       " '/home/usr/Desktop/co3d/bench/349_36542_68793/images/frame000028.jpg',\n",
       " '/home/usr/Desktop/co3d/bench/349_36542_68793/images/frame000015.jpg',\n",
       " '/home/usr/Desktop/co3d/bench/349_36542_68793/images/frame000035.jpg',\n",
       " '/home/usr/Desktop/co3d/bench/349_36542_68793/images/frame000029.jpg',\n",
       " '/home/usr/Desktop/co3d/bench/349_36542_68793/images/frame000069.jpg',\n",
       " '/home/usr/Desktop/co3d/bench/349_36542_68793/images/frame000023.jpg',\n",
       " '/home/usr/Desktop/co3d/bench/349_36542_68793/images/frame000142.jpg',\n",
       " '/home/usr/Desktop/co3d/bench/349_36542_68793/images/frame000135.jpg',\n",
       " '/home/usr/Desktop/co3d/bench/349_36542_68793/images/frame000140.jpg',\n",
       " '/home/usr/Desktop/co3d/bench/349_36542_68793/images/frame000079.jpg',\n",
       " '/home/usr/Desktop/co3d/bench/349_36542_68793/images/frame000108.jpg',\n",
       " '/home/usr/Desktop/co3d/bench/349_36542_68793/images/frame000075.jpg',\n",
       " '/home/usr/Desktop/co3d/bench/349_36542_68793/images/frame000057.jpg',\n",
       " '/home/usr/Desktop/co3d/bench/349_36542_68793/images/frame000102.jpg',\n",
       " '/home/usr/Desktop/co3d/bench/349_36542_68793/images/frame000145.jpg',\n",
       " '/home/usr/Desktop/co3d/bench/349_36542_68793/images/frame000094.jpg',\n",
       " '/home/usr/Desktop/co3d/bench/349_36542_68793/images/frame000086.jpg',\n",
       " '/home/usr/Desktop/co3d/bench/349_36542_68793/images/frame000050.jpg',\n",
       " '/home/usr/Desktop/co3d/bench/349_36542_68793/images/frame000115.jpg',\n",
       " '/home/usr/Desktop/co3d/bench/349_36542_68793/images/frame000020.jpg',\n",
       " '/home/usr/Desktop/co3d/bench/349_36542_68793/images/frame000089.jpg',\n",
       " '/home/usr/Desktop/co3d/bench/349_36542_68793/images/frame000064.jpg',\n",
       " '/home/usr/Desktop/co3d/bench/349_36542_68793/images/frame000056.jpg',\n",
       " '/home/usr/Desktop/co3d/bench/349_36542_68793/images/frame000044.jpg',\n",
       " '/home/usr/Desktop/co3d/bench/349_36542_68793/images/frame000074.jpg',\n",
       " '/home/usr/Desktop/co3d/bench/349_36542_68793/images/frame000007.jpg',\n",
       " '/home/usr/Desktop/co3d/bench/349_36542_68793/images/frame000013.jpg',\n",
       " '/home/usr/Desktop/co3d/bench/349_36542_68793/images/frame000054.jpg',\n",
       " '/home/usr/Desktop/co3d/bench/349_36542_68793/images/frame000103.jpg',\n",
       " '/home/usr/Desktop/co3d/bench/349_36542_68793/images/frame000066.jpg',\n",
       " '/home/usr/Desktop/co3d/bench/349_36542_68793/images/frame000067.jpg',\n",
       " '/home/usr/Desktop/co3d/bench/349_36542_68793/images/frame000038.jpg',\n",
       " '/home/usr/Desktop/co3d/bench/349_36542_68793/images/frame000042.jpg',\n",
       " '/home/usr/Desktop/co3d/bench/349_36542_68793/images/frame000063.jpg',\n",
       " '/home/usr/Desktop/co3d/bench/349_36542_68793/images/frame000016.jpg',\n",
       " '/home/usr/Desktop/co3d/bench/349_36542_68793/images/frame000129.jpg',\n",
       " '/home/usr/Desktop/co3d/bench/349_36542_68793/images/frame000143.jpg',\n",
       " '/home/usr/Desktop/co3d/bench/349_36542_68793/images/frame000045.jpg',\n",
       " '/home/usr/Desktop/co3d/bench/349_36542_68793/images/frame000014.jpg',\n",
       " '/home/usr/Desktop/co3d/bench/349_36542_68793/images/frame000087.jpg',\n",
       " '/home/usr/Desktop/co3d/bench/349_36542_68793/images/frame000118.jpg',\n",
       " '/home/usr/Desktop/co3d/bench/349_36542_68793/images/frame000126.jpg',\n",
       " '/home/usr/Desktop/co3d/bench/349_36542_68793/images/frame000025.jpg',\n",
       " '/home/usr/Desktop/co3d/bench/349_36542_68793/images/frame000005.jpg',\n",
       " '/home/usr/Desktop/co3d/bench/349_36542_68793/images/frame000137.jpg',\n",
       " '/home/usr/Desktop/co3d/bench/349_36542_68793/images/frame000121.jpg',\n",
       " '/home/usr/Desktop/co3d/bench/349_36542_68793/images/frame000107.jpg',\n",
       " '/home/usr/Desktop/co3d/bench/349_36542_68793/images/frame000006.jpg',\n",
       " '/home/usr/Desktop/co3d/bench/349_36542_68793/images/frame000070.jpg',\n",
       " '/home/usr/Desktop/co3d/bench/349_36542_68793/images/frame000068.jpg',\n",
       " '/home/usr/Desktop/co3d/bench/349_36542_68793/images/frame000061.jpg',\n",
       " '/home/usr/Desktop/co3d/bench/349_36542_68793/images/frame000081.jpg',\n",
       " '/home/usr/Desktop/co3d/bench/349_36542_68793/images/frame000098.jpg',\n",
       " '/home/usr/Desktop/co3d/bench/349_36542_68793/images/frame000021.jpg',\n",
       " '/home/usr/Desktop/co3d/bench/349_36542_68793/images/frame000111.jpg',\n",
       " '/home/usr/Desktop/co3d/bench/349_36542_68793/images/frame000004.jpg',\n",
       " '/home/usr/Desktop/co3d/bench/349_36542_68793/images/frame000073.jpg',\n",
       " '/home/usr/Desktop/co3d/bench/349_36542_68793/images/frame000117.jpg',\n",
       " '/home/usr/Desktop/co3d/bench/349_36542_68793/images/frame000034.jpg',\n",
       " '/home/usr/Desktop/co3d/bench/349_36542_68793/images/frame000072.jpg',\n",
       " '/home/usr/Desktop/co3d/bench/349_36542_68793/images/frame000009.jpg',\n",
       " '/home/usr/Desktop/co3d/bench/349_36542_68793/images/frame000088.jpg',\n",
       " '/home/usr/Desktop/co3d/bench/349_36542_68793/images/frame000128.jpg',\n",
       " '/home/usr/Desktop/co3d/bench/349_36542_68793/images/frame000051.jpg',\n",
       " '/home/usr/Desktop/co3d/bench/349_36542_68793/images/frame000008.jpg',\n",
       " '/home/usr/Desktop/co3d/bench/349_36542_68793/images/frame000147.jpg',\n",
       " '/home/usr/Desktop/co3d/bench/349_36542_68793/images/frame000037.jpg',\n",
       " '/home/usr/Desktop/co3d/bench/349_36542_68793/images/frame000011.jpg',\n",
       " '/home/usr/Desktop/co3d/bench/349_36542_68793/images/frame000084.jpg',\n",
       " '/home/usr/Desktop/co3d/bench/349_36542_68793/images/frame000092.jpg',\n",
       " '/home/usr/Desktop/co3d/bench/349_36542_68793/images/frame000122.jpg',\n",
       " '/home/usr/Desktop/co3d/bench/349_36542_68793/images/frame000106.jpg',\n",
       " '/home/usr/Desktop/co3d/bench/349_36542_68793/images/frame000030.jpg',\n",
       " '/home/usr/Desktop/co3d/bench/349_36542_68793/images/frame000076.jpg',\n",
       " '/home/usr/Desktop/co3d/bench/349_36542_68793/images/frame000133.jpg']"
      ]
     },
     "execution_count": 41,
     "metadata": {},
     "output_type": "execute_result"
    }
   ],
   "source": [
    "data.all_locations['bench'][0]"
   ]
  },
  {
   "cell_type": "code",
   "execution_count": null,
   "id": "52ea67cf-3399-4034-88bc-ffdf4f48acbc",
   "metadata": {},
   "outputs": [],
   "source": []
  }
 ],
 "metadata": {
  "kernelspec": {
   "display_name": "Python 3 (ipykernel)",
   "language": "python",
   "name": "python3"
  },
  "language_info": {
   "codemirror_mode": {
    "name": "ipython",
    "version": 3
   },
   "file_extension": ".py",
   "mimetype": "text/x-python",
   "name": "python",
   "nbconvert_exporter": "python",
   "pygments_lexer": "ipython3",
   "version": "3.12.3"
  }
 },
 "nbformat": 4,
 "nbformat_minor": 5
}
