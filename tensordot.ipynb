{
 "cells": [
  {
   "cell_type": "code",
   "execution_count": 1,
   "id": "25721533-cd70-4bc1-a8bf-c0f203cfbeca",
   "metadata": {},
   "outputs": [
    {
     "name": "stderr",
     "output_type": "stream",
     "text": [
      "/home/usr/myenv/lib/python3.12/site-packages/torchtt/_dmrg.py:19: UserWarning: \u001b[33m\n",
      "C++ implementation not available. Using pure Python.\n",
      "\u001b[0m\n",
      "  warnings.warn(\"\\x1B[33m\\nC++ implementation not available. Using pure Python.\\n\\033[0m\")\n",
      "/home/usr/myenv/lib/python3.12/site-packages/torchtt/_amen.py:21: UserWarning: \u001b[33m\n",
      "C++ implementation not available. Using pure Python.\n",
      "\u001b[0m\n",
      "  warnings.warn(\n",
      "/home/usr/myenv/lib/python3.12/site-packages/torchtt/solvers.py:21: UserWarning: \u001b[33m\n",
      "C++ implementation not available. Using pure Python.\n",
      "\u001b[0m\n",
      "  warnings.warn(\n",
      "/home/usr/myenv/lib/python3.12/site-packages/torchtt/cpp.py:12: UserWarning: \u001b[33m\n",
      "C++ implementation not available. Using pure Python.\n",
      "\u001b[0m\n",
      "  warnings.warn(\"\\x1B[33m\\nC++ implementation not available. Using pure Python.\\n\\033[0m\")\n",
      "/home/usr/myenv/lib/python3.12/site-packages/torchtt/__init__.py:34: UserWarning: \u001b[33m\n",
      "C++ implementation not available. Using pure Python.\n",
      "\u001b[0m\n",
      "  warnings.warn(\n"
     ]
    }
   ],
   "source": [
    "from torchvision.io import read_image\n",
    "from torchvision.transforms import Resize\n",
    "\n",
    "import torch as tn\n",
    "import torch.nn as nn\n",
    "import torchtt as tntt\n",
    "\n",
    "from torch import optim\n",
    "from torchvision.transforms import ToTensor\n",
    "from torch.utils.data import DataLoader, Dataset\n",
    "from torch.utils.data import random_split\n",
    "import numpy as np\n",
    "\n",
    "device = tn.device('cuda' if tn.cuda.is_available() else 'cpu')"
   ]
  },
  {
   "cell_type": "code",
   "execution_count": null,
   "id": "ef618752-ac76-4d4c-9d38-f55be2718ef4",
   "metadata": {},
   "outputs": [],
   "source": [
    "path1 = \"data/1_1.jpg\"\n",
    "path2 = \"data/1_2.jpg\"\n",
    "path3 = \"data/1_3.jpg\"\n",
    "res = Resize((256, 256))\n",
    "\n",
    "im1 = res(read_image(path1)/255.0)\n",
    "im2 = res(read_image(path2)/255.0)\n",
    "im3 = res(read_image(path3)/255.0)"
   ]
  },
  {
   "cell_type": "code",
   "execution_count": 14,
   "id": "2f56898e-96fd-495b-80ad-efee0cb9e10e",
   "metadata": {},
   "outputs": [],
   "source": [
    "im1_tt = tntt.TT(im1)\n",
    "im2_tt = tntt.TT(im2)\n",
    "im3_tt = tntt.TT(im3)"
   ]
  },
  {
   "cell_type": "code",
   "execution_count": 15,
   "id": "6750de5b-ae10-48e7-884f-39fe1091ee28",
   "metadata": {},
   "outputs": [],
   "source": [
    "test2 = tntt.kron(im1_tt, im2_tt)\n",
    "test3 = tntt.kron(test2, im3_tt)"
   ]
  },
  {
   "cell_type": "code",
   "execution_count": 34,
   "id": "c0473134-611f-409b-ab5b-578fd6a534fe",
   "metadata": {},
   "outputs": [
    {
     "data": {
      "text/plain": [
       "TT with sizes and ranks:\n",
       "N = [3, 256, 256, 3, 256, 256, 3, 256, 256]\n",
       "R = [1, 3, 256, 1, 3, 256, 1, 3, 256, 1]\n",
       "\n",
       "Device: cpu, dtype: torch.float32\n",
       "#entries 786459 compression 1.034838387820653e-10"
      ]
     },
     "execution_count": 34,
     "metadata": {},
     "output_type": "execute_result"
    }
   ],
   "source": [
    "test3"
   ]
  },
  {
   "cell_type": "code",
   "execution_count": 2,
   "id": "ed08df93-b643-4a1a-9c9f-5a3f3bf4b1a1",
   "metadata": {},
   "outputs": [],
   "source": [
    "class BasicTT(nn.Module):\n",
    "    def __init__(self):\n",
    "        super().__init__()\n",
    "        self.ttl1 = tntt.nn.LinearLayerTT([1, 500, 500, 500], \n",
    "                                          [8, 100, 100, 100],\n",
    "                                          [1, 2  , 2  , 2  , 1])\n",
    "        \n",
    "        self.ttl2 = tntt.nn.LinearLayerTT([8, 100, 100, 100],\n",
    "                                          [8, 50 , 50 , 50 ], \n",
    "                                          [1, 5 , 5 , 5 , 1])\n",
    "\n",
    "        self.ttl3 = tntt.nn.LinearLayerTT([8, 50, 50, 50],\n",
    "                                          [2, 8, 8, 8],\n",
    "                                          [1, 10, 10, 10, 1])\n",
    "        \n",
    "        self.linear1 = nn.Linear(1024, 512, dtype = tn.float32)\n",
    "\n",
    "        self.linear2 = nn.Linear(512, 10, dtype = tn.float32)\n",
    "        self.logsoftmax = nn.LogSoftmax(1)\n",
    "\n",
    "    def forward(self, x):\n",
    "        x = self.ttl1(x)\n",
    "        x = tn.relu(x)\n",
    "        x = self.ttl2(x)\n",
    "        x = tn.relu(x)\n",
    "        x = self.ttl3(x)\n",
    "        x = tn.relu(x)\n",
    "        \n",
    "        x = x.view(-1,1024)\n",
    "        x = self.linear1(x)\n",
    "        x = tn.relu(x)\n",
    "        x = self.linear2(x)\n",
    "        return self.logsoftmax(x)"
   ]
  },
  {
   "cell_type": "code",
   "execution_count": 3,
   "id": "2783cbae-9456-45c5-a134-3083c00d40b6",
   "metadata": {},
   "outputs": [],
   "source": [
    "model = BasicTT()#.to(device)\n",
    "loss_function = nn.CrossEntropyLoss()   \n",
    "optimizer = optim.Adam(model.parameters(), lr = 0.001)"
   ]
  },
  {
   "cell_type": "code",
   "execution_count": 4,
   "id": "f22d8189-f262-4c32-aa12-31095dfe1acf",
   "metadata": {},
   "outputs": [],
   "source": [
    "test_inp = tn.rand((1,500,500,500))#.cuda()\n",
    "target = tn.rand((1,10))#.cuda()\n",
    "\n",
    "optimizer.zero_grad()\n",
    "output = model(test_inp)\n",
    "loss = loss_function(output, target)\n",
    "loss.backward()\n",
    "optimizer.step()"
   ]
  },
  {
   "cell_type": "code",
   "execution_count": null,
   "id": "bcd8ca3b-4b6f-4fac-89b8-3214e44648ef",
   "metadata": {},
   "outputs": [],
   "source": []
  }
 ],
 "metadata": {
  "kernelspec": {
   "display_name": "Python 3 (ipykernel)",
   "language": "python",
   "name": "python3"
  },
  "language_info": {
   "codemirror_mode": {
    "name": "ipython",
    "version": 3
   },
   "file_extension": ".py",
   "mimetype": "text/x-python",
   "name": "python",
   "nbconvert_exporter": "python",
   "pygments_lexer": "ipython3",
   "version": "3.12.3"
  }
 },
 "nbformat": 4,
 "nbformat_minor": 5
}
