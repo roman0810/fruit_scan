{
 "cells": [
  {
   "cell_type": "code",
   "execution_count": 1,
   "id": "35803577-e6c4-4152-be8f-f1647b995fcd",
   "metadata": {},
   "outputs": [],
   "source": [
    "import os\n",
    "os.environ['PYTORCH_CUDA_ALLOC_CONF'] = 'expandable_segments:True'"
   ]
  },
  {
   "cell_type": "code",
   "execution_count": 2,
   "id": "25721533-cd70-4bc1-a8bf-c0f203cfbeca",
   "metadata": {},
   "outputs": [
    {
     "name": "stderr",
     "output_type": "stream",
     "text": [
      "/home/usr/myenv/lib/python3.12/site-packages/torchtt/_dmrg.py:19: UserWarning: \u001b[33m\n",
      "C++ implementation not available. Using pure Python.\n",
      "\u001b[0m\n",
      "  warnings.warn(\"\\x1B[33m\\nC++ implementation not available. Using pure Python.\\n\\033[0m\")\n",
      "/home/usr/myenv/lib/python3.12/site-packages/torchtt/_amen.py:21: UserWarning: \u001b[33m\n",
      "C++ implementation not available. Using pure Python.\n",
      "\u001b[0m\n",
      "  warnings.warn(\n",
      "/home/usr/myenv/lib/python3.12/site-packages/torchtt/solvers.py:21: UserWarning: \u001b[33m\n",
      "C++ implementation not available. Using pure Python.\n",
      "\u001b[0m\n",
      "  warnings.warn(\n",
      "/home/usr/myenv/lib/python3.12/site-packages/torchtt/cpp.py:12: UserWarning: \u001b[33m\n",
      "C++ implementation not available. Using pure Python.\n",
      "\u001b[0m\n",
      "  warnings.warn(\"\\x1B[33m\\nC++ implementation not available. Using pure Python.\\n\\033[0m\")\n",
      "/home/usr/myenv/lib/python3.12/site-packages/torchtt/__init__.py:34: UserWarning: \u001b[33m\n",
      "C++ implementation not available. Using pure Python.\n",
      "\u001b[0m\n",
      "  warnings.warn(\n"
     ]
    }
   ],
   "source": [
    "from torchvision.io import read_image\n",
    "from torchvision.transforms import Resize\n",
    "\n",
    "import torch as tn\n",
    "import torch.nn as nn\n",
    "import torchtt as tntt\n",
    "\n",
    "from torch import optim\n",
    "from torchvision.transforms import ToTensor\n",
    "from torch.utils.data import DataLoader\n",
    "from torch.utils.data import random_split\n",
    "import numpy as np\n",
    "\n",
    "from tqdm.notebook import tqdm\n",
    "from utils.triplets import ImageTriplets\n",
    "\n",
    "from time import time\n",
    "\n",
    "device = tn.device('cuda' if tn.cuda.is_available() else 'cpu')"
   ]
  },
  {
   "cell_type": "code",
   "execution_count": 3,
   "id": "ed08df93-b643-4a1a-9c9f-5a3f3bf4b1a1",
   "metadata": {},
   "outputs": [],
   "source": [
    "DETECTION_CLASSES = 6\n",
    "\n",
    "class BasicTT(nn.Module):\n",
    "    def __init__(self):\n",
    "        super().__init__()\n",
    "        self.ttl1 = tntt.nn.LinearLayerTT([1, 500, 500, 500], \n",
    "                                          [8, 100, 100, 100],\n",
    "                                          [1, 2  , 2  , 2   , 1])\n",
    "        \n",
    "        self.ttl2 = tntt.nn.LinearLayerTT([8, 100, 100, 100],\n",
    "                                          [8, 50 , 50 , 50 ], \n",
    "                                          [1, 5  , 5  , 5   , 1])\n",
    "\n",
    "        self.ttl3 = tntt.nn.LinearLayerTT([8, 50, 50, 50],\n",
    "                                          [2, 8, 8, 8],\n",
    "                                          [1,10,10, 10, 1])\n",
    "        \n",
    "        self.linear1 = nn.Linear(1024, 512, dtype = tn.float32)\n",
    "\n",
    "        self.linear2 = nn.Linear(512, DETECTION_CLASSES, dtype = tn.float32)\n",
    "        self.softmax = nn.Softmax(dim=1)\n",
    "\n",
    "    def forward(self, x):\n",
    "        x = self.ttl1(x)\n",
    "        x = tn.relu(x)\n",
    "        x = self.ttl2(x)\n",
    "        x = tn.relu(x)\n",
    "        x = self.ttl3(x)\n",
    "        x = tn.relu(x)\n",
    "        \n",
    "        x = x.view(-1,1024)\n",
    "        x = self.linear1(x)\n",
    "        x = tn.relu(x)\n",
    "        x = self.linear2(x)\n",
    "        return self.softmax(x)"
   ]
  },
  {
   "cell_type": "code",
   "execution_count": 4,
   "id": "cb4af5d5-b854-4cde-83db-4c81d07fe0af",
   "metadata": {},
   "outputs": [],
   "source": [
    "# ОЗУ требует в 7.8 раз больше времени на шаг оптимизации\n",
    "\n",
    "# ИЗВЛЕКАЕМ ПРИЗННАКИ ИЗОБРАЖЕНИЙ"
   ]
  },
  {
   "cell_type": "code",
   "execution_count": 5,
   "id": "b6e1b064-a202-42d9-b7cb-79f2072dfe96",
   "metadata": {},
   "outputs": [],
   "source": [
    "from torchvision.models import resnet50, ResNet50_Weights\n",
    "from torchsummary import summary\n",
    "\n",
    "class ResNet50(nn.Module):\n",
    "    def __init__(self):\n",
    "        super(ResNet50, self).__init__()\n",
    "        \n",
    "\n",
    "        self.conv = resnet50(weights=ResNet50_Weights.DEFAULT)\n",
    "        for param in self.conv.parameters():\n",
    "            param.requires_grad = False\n",
    "\n",
    "        self.fc1 = nn.Sequential(\n",
    "            nn.Linear(in_features = 1000, out_features = 500, bias=True),\n",
    "            nn.BatchNorm1d(500, momentum = 0.5),\n",
    "            nn.LeakyReLU()\n",
    "        )\n",
    "        self.fc2 = nn.Sequential(\n",
    "            nn.Dropout(p=0.5),\n",
    "            nn.Linear(in_features = 500, out_features = 500, bias=True),\n",
    "            nn.BatchNorm1d(500, momentum = 0.5),\n",
    "            nn.LeakyReLU(),\n",
    "            nn.Dropout(p=0.5),\n",
    "            nn.Linear(in_features = 500, out_features = 500, bias=True),\n",
    "            nn.BatchNorm1d(500, momentum = 0.5),\n",
    "            nn.LeakyReLU(),\n",
    "            nn.Dropout(p=0.5),\n",
    "            nn.Linear(in_features = 500, out_features = DETECTION_CLASSES, bias=True),\n",
    "            nn.Softmax(dim=1)\n",
    "        )\n",
    "\n",
    "    def forward(self, x):\n",
    "        x = self.conv(x)\n",
    "        x = x.view(-1, 1000)\n",
    "        x = self.fc1(x)\n",
    "        x = self.fc2(x)\n",
    "        return x\n",
    "\n",
    "    def encode(self, x):\n",
    "        x = self.conv(x)\n",
    "        x = x.view(-1, 1000)\n",
    "        x = self.fc1(x)\n",
    "        return x"
   ]
  },
  {
   "cell_type": "code",
   "execution_count": 4,
   "id": "45c4d0d8-4f4d-4435-a4d5-b6d2a0dcdd8a",
   "metadata": {},
   "outputs": [],
   "source": [
    "dataset = ImageTriplets(\"/home/usr/Documents/Datasets/co3d\", triplets=False)\n",
    "train_datset, val_dataset = tn.utils.data.random_split(dataset, [len(dataset)-8000, 8000])\n",
    "\n",
    "train_loader = DataLoader(\n",
    "        train_datset,\n",
    "        batch_size=64,\n",
    "        num_workers=8,\n",
    "        pin_memory=True,\n",
    "        shuffle=True,\n",
    "        drop_last = True\n",
    ")\n",
    "\n",
    "val_loader = DataLoader(\n",
    "        val_dataset,\n",
    "        batch_size=64,\n",
    "        num_workers=2,\n",
    "        pin_memory=True,\n",
    "        shuffle=False,\n",
    "        drop_last = True\n",
    ")"
   ]
  },
  {
   "cell_type": "code",
   "execution_count": 5,
   "id": "6ed6c391-a73f-4f7e-a045-a131a99fd91c",
   "metadata": {},
   "outputs": [],
   "source": [
    "model = ResNet50().to(device)\n",
    "optimizer = tn.optim.Adam(model.parameters(), lr = 0.001)\n",
    "criterion = tn.nn.BCELoss()\n",
    "\n",
    "train_losses = []\n",
    "val_losses = []"
   ]
  },
  {
   "cell_type": "code",
   "execution_count": 6,
   "id": "a3efce47-a420-41b9-9968-7d58112e76aa",
   "metadata": {},
   "outputs": [
    {
     "data": {
      "application/vnd.jupyter.widget-view+json": {
       "model_id": "9888c1805d6a4854b09cce4da9e09dcb",
       "version_major": 2,
       "version_minor": 0
      },
      "text/plain": [
       "  0%|          | 0/3 [00:00<?, ?it/s]"
      ]
     },
     "metadata": {},
     "output_type": "display_data"
    }
   ],
   "source": [
    "epo = 3\n",
    "\n",
    "for _ in tqdm(range(epo)):\n",
    "    epo_train_losses = []\n",
    "    epo_val_losses = []\n",
    "    model.train()\n",
    "    for data, target in train_loader:\n",
    "        optimizer.zero_grad()\n",
    "        output = model(data.to(device))\n",
    "        loss = criterion(output, target.to(device))\n",
    "        loss.backward()\n",
    "        optimizer.step()\n",
    "        epo_train_losses.append(loss.item())\n",
    "        \n",
    "    train_losses.append(sum(epo_train_losses)/len(epo_train_losses))\n",
    "    model.eval()\n",
    "    for data, target in val_loader:\n",
    "        with tn.no_grad():\n",
    "            output = model(data.to(device))\n",
    "            loss = criterion(output, target.to(device))\n",
    "            epo_val_losses.append(loss.item())\n",
    "            \n",
    "    val_losses.append(sum(epo_val_losses)/len(epo_val_losses))"
   ]
  },
  {
   "cell_type": "code",
   "execution_count": 7,
   "id": "2b2c8844-7491-4741-8da4-06d3ac03c519",
   "metadata": {},
   "outputs": [],
   "source": [
    "tn.save(model.state_dict(), \"resnet50.pth\")"
   ]
  },
  {
   "cell_type": "code",
   "execution_count": 8,
   "id": "cfdd184e-5edd-4c31-ac28-a639d86c8e49",
   "metadata": {},
   "outputs": [
    {
     "data": {
      "text/plain": [
       "<matplotlib.legend.Legend at 0x7167e3912660>"
      ]
     },
     "execution_count": 8,
     "metadata": {},
     "output_type": "execute_result"
    },
    {
     "data": {
      "image/png": "[encoded data removed]",
      "text/plain": [
       "<Figure size 640x480 with 1 Axes>"
      ]
     },
     "metadata": {},
     "output_type": "display_data"
    }
   ],
   "source": [
    "import matplotlib.pyplot as plt\n",
    "\n",
    "\n",
    "plt.plot(train_losses, label='train')\n",
    "plt.plot(val_losses, label='validation')\n",
    "\n",
    "plt.grid()\n",
    "plt.legend()"
   ]
  },
  {
   "cell_type": "code",
   "execution_count": 9,
   "id": "11b9fb38-e38b-423f-8742-98b27b5f7482",
   "metadata": {},
   "outputs": [
    {
     "data": {
      "text/plain": [
       "0.997125"
      ]
     },
     "execution_count": 9,
     "metadata": {},
     "output_type": "execute_result"
    }
   ],
   "source": [
    "def calculate_accuracy(model, dataloader, device=None):\n",
    "    \"\"\"\n",
    "    Вычисляет accuracy модели на данных из DataLoader.\n",
    "    \n",
    "    Аргументы:\n",
    "        model: модель PyTorch (в режиме eval).\n",
    "        dataloader: DataLoader, возвращающий пары (input, target),\n",
    "                    где target — one-hot вектор (тензор размера [batch_size, num_classes]).\n",
    "        device: устройство ('cpu' или 'cuda'), на которое переносить данные (опционально).\n",
    "    \n",
    "    Возвращает:\n",
    "        accuracy (float): доля правильных предсказаний.\n",
    "    \"\"\"\n",
    "    model.eval()  # Переводим модель в режим оценки\n",
    "    correct = 0\n",
    "    total = 0\n",
    "\n",
    "    with tn.no_grad():  # Отключаем вычисление градиентов\n",
    "        for inputs, targets in dataloader:\n",
    "            # Переносим данные на указанное устройство\n",
    "            if device:\n",
    "                inputs = inputs.to(device)\n",
    "                targets = targets.to(device)\n",
    "\n",
    "            # Получаем предсказания модели\n",
    "            outputs = model(inputs)  # [batch_size, num_classes]\n",
    "\n",
    "            # Преобразуем one-hot targets в индексы классов\n",
    "            # Например, [0, 1, 0, 0] -> 1\n",
    "            target_classes = tn.argmax(targets, dim=1)  # [batch_size]\n",
    "\n",
    "            # Получаем предсказанные классы (индексы с максимальным значением)\n",
    "            predicted_classes = tn.argmax(outputs, dim=1)  # [batch_size]\n",
    "\n",
    "            # Считаем количество правильных предсказаний\n",
    "            correct += (predicted_classes == target_classes).sum().item()\n",
    "            total += targets.size(0)  # Размер батча\n",
    "\n",
    "    accuracy = correct / total if total > 0 else 0.0\n",
    "    return accuracy\n",
    "\n",
    "calculate_accuracy(model, val_loader, device=device)"
   ]
  },
  {
   "cell_type": "markdown",
   "id": "d55a2447-d10a-4746-8554-dfc3c3b72ad9",
   "metadata": {},
   "source": [
    "## Подключаем ТТ модель"
   ]
  },
  {
   "cell_type": "code",
   "execution_count": 6,
   "id": "e0a59fcb-4f92-40a6-ad1f-e9527485c19a",
   "metadata": {},
   "outputs": [],
   "source": [
    "dataset = ImageTriplets(\"/home/usr/Documents/Datasets/co3d\", triplets=True)\n",
    "train_datset, val_dataset = tn.utils.data.random_split(dataset, [len(dataset)-6000, 6000])\n",
    "\n",
    "train_loader = DataLoader(\n",
    "        train_datset,\n",
    "        batch_size=1,\n",
    "        num_workers=8,\n",
    "        pin_memory=True,\n",
    "        shuffle=True,\n",
    "        drop_last = True\n",
    ")\n",
    "\n",
    "val_loader = DataLoader(\n",
    "        val_dataset,\n",
    "        batch_size=1,\n",
    "        num_workers=2,\n",
    "        pin_memory=True,\n",
    "        shuffle=False,\n",
    "        drop_last = True\n",
    ")"
   ]
  },
  {
   "cell_type": "code",
   "execution_count": 7,
   "id": "5b4cc9a9-f8d7-4b82-81c4-f7e366b0d789",
   "metadata": {},
   "outputs": [],
   "source": [
    "model_TT = BasicTT().to(device)\n",
    "\n",
    "model = ResNet50().to(device)\n",
    "model.load_state_dict(tn.load(\"resnet50.pth\", weights_only=True))\n",
    "\n",
    "criterion = tn.nn.BCELoss()\n",
    "optimizer = optim.Adam(model_TT.parameters(), lr = 0.0003)\n",
    "\n",
    "train_losses = []\n",
    "val_losses = []"
   ]
  },
  {
   "cell_type": "code",
   "execution_count": 8,
   "id": "df0ba480-cb32-45df-b658-3c99005579a2",
   "metadata": {},
   "outputs": [
    {
     "data": {
      "application/vnd.jupyter.widget-view+json": {
       "model_id": "a112d0b34a56493cbd35b9d49d57f65e",
       "version_major": 2,
       "version_minor": 0
      },
      "text/plain": [
       "  0%|          | 0/1 [00:00<?, ?it/s]"
      ]
     },
     "metadata": {},
     "output_type": "display_data"
    }
   ],
   "source": [
    "epo = 1\n",
    "\n",
    "for _ in tqdm(range(epo)):\n",
    "    epo_train_losses = []\n",
    "    epo_val_losses = []\n",
    "    model.eval()\n",
    "    model_TT.train()\n",
    "    for data, target in train_loader:\n",
    "        with tn.no_grad():\n",
    "            embed1 = model.encode(data[0].to(device))[0]\n",
    "            embed2 = model.encode(data[1].to(device))[0]\n",
    "            embed3 = model.encode(data[2].to(device))[0]\n",
    "\n",
    "            embed = embed1.unsqueeze(1).unsqueeze(2) * embed2.unsqueeze(0).unsqueeze(2) * embed3.unsqueeze(0).unsqueeze(0)\n",
    "\n",
    "        optimizer.zero_grad()\n",
    "        output = model_TT(embed.unsqueeze(0))\n",
    "        \n",
    "        loss = criterion(output, target.to(device))\n",
    "        loss.backward()\n",
    "        optimizer.step()\n",
    "        epo_train_losses.append(loss.item())\n",
    "        \n",
    "    train_losses.append(sum(epo_train_losses)/len(epo_train_losses))\n",
    "    \n",
    "    model_TT.eval()\n",
    "    for data, target in val_loader:\n",
    "        with tn.no_grad():\n",
    "            embed1 = model.encode(data[0].to(device))[0]\n",
    "            embed2 = model.encode(data[1].to(device))[0]\n",
    "            embed3 = model.encode(data[2].to(device))[0]\n",
    "\n",
    "            embed = embed1.unsqueeze(1).unsqueeze(2) * embed2.unsqueeze(0).unsqueeze(2) * embed3.unsqueeze(0).unsqueeze(0)\n",
    "            \n",
    "            output = model_TT(embed.unsqueeze(0))\n",
    "            loss = criterion(output, target.to(device))\n",
    "\n",
    "            epo_val_losses.append(loss.item())\n",
    "\n",
    "    val_losses.append(sum(epo_val_losses)/len(epo_val_losses))"
   ]
  },
  {
   "cell_type": "code",
   "execution_count": 9,
   "id": "0a413861-055a-41d4-a250-1c4e4e247a20",
   "metadata": {},
   "outputs": [],
   "source": [
    "tn.save(model_TT.state_dict(), \"resnet+TT2.pth\")"
   ]
  },
  {
   "cell_type": "code",
   "execution_count": 20,
   "id": "94d19747-a5ad-45b7-9424-79cd036a44b1",
   "metadata": {},
   "outputs": [
    {
     "data": {
      "text/plain": [
       "<matplotlib.legend.Legend at 0x71bf3b19a9c0>"
      ]
     },
     "execution_count": 20,
     "metadata": {},
     "output_type": "execute_result"
    },
    {
     "data": {
      "image/png": "[encoded data removed]",
      "text/plain": [
       "<Figure size 640x480 with 1 Axes>"
      ]
     },
     "metadata": {},
     "output_type": "display_data"
    }
   ],
   "source": [
    "import matplotlib.pyplot as plt\n",
    "\n",
    "\n",
    "plt.plot(epo_train_losses[:700], label='train')\n",
    "# plt.plot(epo_val_losses[:700], label='validation')\n",
    "\n",
    "plt.grid()\n",
    "plt.legend()"
   ]
  },
  {
   "cell_type": "code",
   "execution_count": 10,
   "id": "e11268fa-57b9-44c7-a6eb-01703279edd0",
   "metadata": {},
   "outputs": [
    {
     "data": {
      "text/plain": [
       "[25.955801151815184]"
      ]
     },
     "execution_count": 10,
     "metadata": {},
     "output_type": "execute_result"
    }
   ],
   "source": [
    "train_losses"
   ]
  },
  {
   "cell_type": "code",
   "execution_count": 11,
   "id": "c530645b-e0a7-4901-b775-6cae018c9bb4",
   "metadata": {},
   "outputs": [
    {
     "data": {
      "text/plain": [
       "[26.3722242342631]"
      ]
     },
     "execution_count": 11,
     "metadata": {},
     "output_type": "execute_result"
    }
   ],
   "source": [
    "val_losses"
   ]
  },
  {
   "cell_type": "code",
   "execution_count": 12,
   "id": "d98769fc-e5c8-4f65-b116-021c6a3ece15",
   "metadata": {},
   "outputs": [],
   "source": [
    "def calculate_accuracy_trilets(model, model_TT, dataloader, device=None):\n",
    "    model.eval()  # Переводим модель в режим оценки\n",
    "    correct = 0\n",
    "    total = 0\n",
    "\n",
    "    with tn.no_grad():  # Отключаем вычисление градиентов\n",
    "        for data, targets in dataloader:\n",
    "            embed1 = model.encode(data[0].to(device))[0]\n",
    "            embed2 = model.encode(data[1].to(device))[0]\n",
    "            embed3 = model.encode(data[2].to(device))[0]\n",
    "\n",
    "            embed = embed1.unsqueeze(1).unsqueeze(2) * embed2.unsqueeze(0).unsqueeze(2) * embed3.unsqueeze(0).unsqueeze(0)\n",
    "            \n",
    "            outputs = model_TT(embed.unsqueeze(0))\n",
    "\n",
    "            # Преобразуем one-hot targets в индексы классов\n",
    "            # Например, [0, 1, 0, 0] -> 1\n",
    "            target_classes = tn.argmax(targets.to(device), dim=1)  # [batch_size]\n",
    "\n",
    "            # Получаем предсказанные классы (индексы с максимальным значением)\n",
    "            predicted_classes = tn.argmax(outputs, dim=1)  # [batch_size]\n",
    "\n",
    "            # Считаем количество правильных предсказаний\n",
    "            correct += (predicted_classes == target_classes).sum().item()\n",
    "            total += targets.size(0)  # Размер батча\n",
    "\n",
    "    accuracy = correct / total if total > 0 else 0.0\n",
    "    return accuracy\n"
   ]
  },
  {
   "cell_type": "code",
   "execution_count": 13,
   "id": "d44ce9af-1204-4fde-a276-67e2702e3287",
   "metadata": {},
   "outputs": [
    {
     "data": {
      "text/plain": [
       "0.20883333333333334"
      ]
     },
     "execution_count": 13,
     "metadata": {},
     "output_type": "execute_result"
    }
   ],
   "source": [
    "calculate_accuracy_trilets(model, model_TT, val_loader, device=device)"
   ]
  },
  {
   "cell_type": "code",
   "execution_count": null,
   "id": "7530e552-3aef-4ebd-8078-2a917002aaa4",
   "metadata": {},
   "outputs": [],
   "source": []
  }
 ],
 "metadata": {
  "kernelspec": {
   "display_name": "Python 3 (ipykernel)",
   "language": "python",
   "name": "python3"
  },
  "language_info": {
   "codemirror_mode": {
    "name": "ipython",
    "version": 3
   },
   "file_extension": ".py",
   "mimetype": "text/x-python",
   "name": "python",
   "nbconvert_exporter": "python",
   "pygments_lexer": "ipython3",
   "version": "3.12.3"
  }
 },
 "nbformat": 4,
 "nbformat_minor": 5
}
